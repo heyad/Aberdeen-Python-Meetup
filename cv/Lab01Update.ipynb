{
  "nbformat": 4,
  "nbformat_minor": 0,
  "metadata": {
    "colab": {
      "provenance": [],
      "mount_file_id": "1EIpNkavJQIvAB3cQtYHt1r3aS0IVesS0",
      "authorship_tag": "ABX9TyNssZEkXiu8EVHicF3ASqdF",
      "include_colab_link": true
    },
    "kernelspec": {
      "name": "python3",
      "display_name": "Python 3"
    },
    "language_info": {
      "name": "python"
    }
  },
  "cells": [
    {
      "cell_type": "markdown",
      "metadata": {
        "id": "view-in-github",
        "colab_type": "text"
      },
      "source": [
        "<a href=\"https://colab.research.google.com/github/heyad/Aberdeen-Python-Meetup/blob/main/cv/Lab01Update.ipynb\" target=\"_parent\"><img src=\"https://colab.research.google.com/assets/colab-badge.svg\" alt=\"Open In Colab\"/></a>"
      ]
    },
    {
      "cell_type": "code",
      "execution_count": null,
      "metadata": {
        "id": "D4ZKJ7thGR_Y"
      },
      "outputs": [],
      "source": []
    },
    {
      "cell_type": "markdown",
      "source": [
        "This is lab 1. and it is about basic python programming "
      ],
      "metadata": {
        "id": "ITwNDTOXGVJZ"
      }
    },
    {
      "cell_type": "code",
      "source": [
        "print('hello python')"
      ],
      "metadata": {
        "colab": {
          "base_uri": "https://localhost:8080/"
        },
        "id": "SuArzKwoGaMw",
        "outputId": "22a27bfe-a2a8-4c20-ab84-d9a2d6df31b3"
      },
      "execution_count": 1,
      "outputs": [
        {
          "output_type": "stream",
          "name": "stdout",
          "text": [
            "hello python\n"
          ]
        }
      ]
    }
  ]
}